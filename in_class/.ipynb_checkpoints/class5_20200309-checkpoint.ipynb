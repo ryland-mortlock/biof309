{
 "cells": [
  {
   "cell_type": "markdown",
   "metadata": {},
   "source": [
    "# F things: f strings, functions, for loops"
   ]
  },
  {
   "cell_type": "markdown",
   "metadata": {},
   "source": [
    "## f strings"
   ]
  },
  {
   "cell_type": "code",
   "execution_count": 4,
   "metadata": {},
   "outputs": [
    {
     "data": {
      "text/plain": [
       "'I recommend using double-quoted strings,'"
      ]
     },
     "execution_count": 4,
     "metadata": {},
     "output_type": "execute_result"
    }
   ],
   "source": [
    "# Strings\n",
    "# Regular strings\n",
    "\"I recommend using double-quoted strings,\""
   ]
  },
  {
   "cell_type": "code",
   "execution_count": 5,
   "metadata": {},
   "outputs": [
    {
     "data": {
      "text/plain": [
       "\"so you don't have to use backslash (\\\\)\""
      ]
     },
     "execution_count": 5,
     "metadata": {},
     "output_type": "execute_result"
    }
   ],
   "source": [
    "\"so you don't have to use backslash (\\)\""
   ]
  },
  {
   "cell_type": "code",
   "execution_count": 6,
   "metadata": {},
   "outputs": [
    {
     "data": {
      "text/plain": [
       "\"to escape apostrophes (').\""
      ]
     },
     "execution_count": 6,
     "metadata": {},
     "output_type": "execute_result"
    }
   ],
   "source": [
    "\"to escape apostrophes (').\""
   ]
  },
  {
   "cell_type": "code",
   "execution_count": 7,
   "metadata": {},
   "outputs": [
    {
     "data": {
      "text/plain": [
       "\"This string won't work without a backslash.\""
      ]
     },
     "execution_count": 7,
     "metadata": {},
     "output_type": "execute_result"
    }
   ],
   "source": [
    "'This string won\\'t work without a backslash.'"
   ]
  },
  {
   "cell_type": "code",
   "execution_count": 8,
   "metadata": {},
   "outputs": [
    {
     "data": {
      "text/plain": [
       "'Docstrings,\\nstrings that are surround by three pairs of quotes,\\nallow you to write across multiple lines.\\n'"
      ]
     },
     "execution_count": 8,
     "metadata": {},
     "output_type": "execute_result"
    }
   ],
   "source": [
    "\"\"\"Docstrings,\n",
    "strings that are surround by three pairs of quotes,\n",
    "allow you to write across multiple lines.\n",
    "\"\"\""
   ]
  },
  {
   "cell_type": "markdown",
   "metadata": {},
   "source": [
    "These are mainly used for documentation at the beginning of functions for example."
   ]
  },
  {
   "cell_type": "code",
   "execution_count": 10,
   "metadata": {},
   "outputs": [
    {
     "data": {
      "text/plain": [
       "'You can also put multiple strings inside of parentheses and Python will put them together for you!'"
      ]
     },
     "execution_count": 10,
     "metadata": {},
     "output_type": "execute_result"
    }
   ],
   "source": [
    "(\n",
    "    \"You can also put multiple strings \"\n",
    "    \"inside of parentheses and \"\n",
    "    \"Python will put them together for you!\"\n",
    ")"
   ]
  },
  {
   "cell_type": "markdown",
   "metadata": {},
   "source": [
    "This evaluates to a single string. Can do with line breaks"
   ]
  },
  {
   "cell_type": "code",
   "execution_count": 15,
   "metadata": {},
   "outputs": [
    {
     "name": "stdout",
     "output_type": "stream",
     "text": [
      "You can also put multiple strings\n",
      "inside of parentheses and\n",
      "Python will put them together for you!\n"
     ]
    }
   ],
   "source": [
    "print(\n",
    "    \"You can also put multiple strings\\n\"\n",
    "    \"inside of parentheses and\\n\"\n",
    "    \"Python will put them together for you!\"\n",
    ")"
   ]
  },
  {
   "cell_type": "code",
   "execution_count": 16,
   "metadata": {},
   "outputs": [
    {
     "data": {
      "text/plain": [
       "'The value of my_var is [1, 2, 3].'"
      ]
     },
     "execution_count": 16,
     "metadata": {},
     "output_type": "execute_result"
    }
   ],
   "source": [
    "# Use f-strings to insert code into strings\n",
    "my_var = [1, 2, 3]\n",
    "f\"The value of my_var is {my_var}.\""
   ]
  },
  {
   "cell_type": "code",
   "execution_count": 19,
   "metadata": {},
   "outputs": [
    {
     "data": {
      "text/plain": [
       "'If I square my_var I get [1, 4, 9].'"
      ]
     },
     "execution_count": 19,
     "metadata": {},
     "output_type": "execute_result"
    }
   ],
   "source": [
    "# List comprehension example\n",
    "f\"If I square my_var I get {[x**2 for x in my_var]}.\""
   ]
  },
  {
   "cell_type": "code",
   "execution_count": null,
   "metadata": {},
   "outputs": [],
   "source": [
    "# Names\n",
    "# Variable names should be written in snake_case\n",
    "my_var = [1, 2, 3]\n",
    "my_var = \"Variables can change\""
   ]
  },
  {
   "cell_type": "code",
   "execution_count": 20,
   "metadata": {},
   "outputs": [],
   "source": [
    "# To put an image in, save the image as image.png and use <img src='image.png'> Make sure to be in markdown"
   ]
  },
  {
   "cell_type": "markdown",
   "metadata": {},
   "source": [
    "<img src='cases_cartoon.jpg'>\n"
   ]
  },
  {
   "cell_type": "code",
   "execution_count": null,
   "metadata": {},
   "outputs": [],
   "source": [
    "def my_func():\n",
    "    \"\"\"Function names should also be snake_case.\"\"\""
   ]
  },
  {
   "cell_type": "code",
   "execution_count": 32,
   "metadata": {},
   "outputs": [],
   "source": [
    "# Constants, variables that we don't plan on modifying,\n",
    "# should be written in SCREAMING_SNAKE_CASE\n",
    "ALWAYS_FIVE = 5"
   ]
  },
  {
   "cell_type": "code",
   "execution_count": 34,
   "metadata": {},
   "outputs": [],
   "source": [
    "# kebab-case works only in strings, not variable names\n",
    "my_str = \"kebab-case\"\n",
    "# Often used in filenames, paths, etc."
   ]
  },
  {
   "cell_type": "code",
   "execution_count": 35,
   "metadata": {},
   "outputs": [],
   "source": [
    "# Assign three variables in a row\n",
    "x = y = z = 3"
   ]
  },
  {
   "cell_type": "code",
   "execution_count": 36,
   "metadata": {},
   "outputs": [],
   "source": [
    "# Create a string\n",
    "my_str = \"a few words in a string\""
   ]
  },
  {
   "cell_type": "markdown",
   "metadata": {},
   "source": [
    "## Method chaining"
   ]
  },
  {
   "cell_type": "code",
   "execution_count": 37,
   "metadata": {},
   "outputs": [
    {
     "data": {
      "text/plain": [
       "2"
      ]
     },
     "execution_count": 37,
     "metadata": {},
     "output_type": "execute_result"
    }
   ],
   "source": [
    "# Combine two methods in a horizontal method chain\n",
    "my_str.split().index(\"words\")"
   ]
  },
  {
   "cell_type": "code",
   "execution_count": 45,
   "metadata": {},
   "outputs": [
    {
     "data": {
      "text/plain": [
       "2"
      ]
     },
     "execution_count": 45,
     "metadata": {},
     "output_type": "execute_result"
    }
   ],
   "source": [
    "# Can wrap with parentheses to chain methods vertically (for readability)\n",
    "(my_str\n",
    " .split()\n",
    " .index(\"words\")\n",
    ")"
   ]
  },
  {
   "cell_type": "code",
   "execution_count": 46,
   "metadata": {},
   "outputs": [
    {
     "data": {
      "text/plain": [
       "'a few words in a string! And another thing.'"
      ]
     },
     "execution_count": 46,
     "metadata": {},
     "output_type": "execute_result"
    }
   ],
   "source": [
    "(my_str\n",
    "+\"!\"\n",
    "+' And another thing.')"
   ]
  },
  {
   "cell_type": "code",
   "execution_count": 48,
   "metadata": {},
   "outputs": [],
   "source": [
    "# Example of attributes where you do and don't need parantheses\n",
    "import math"
   ]
  },
  {
   "cell_type": "code",
   "execution_count": 50,
   "metadata": {},
   "outputs": [
    {
     "data": {
      "text/plain": [
       "3.141592653589793"
      ]
     },
     "execution_count": 50,
     "metadata": {},
     "output_type": "execute_result"
    }
   ],
   "source": [
    "# Orange when you hit tab after . (instance) - no need for parantheses\n",
    "math.pi"
   ]
  },
  {
   "cell_type": "code",
   "execution_count": 51,
   "metadata": {},
   "outputs": [
    {
     "data": {
      "text/plain": [
       "1.1071487177940904"
      ]
     },
     "execution_count": 51,
     "metadata": {},
     "output_type": "execute_result"
    }
   ],
   "source": [
    "# Blue when you hit tab after . (function) - need a parenthese\n",
    "math.atan2(1,.5)"
   ]
  },
  {
   "cell_type": "code",
   "execution_count": 38,
   "metadata": {},
   "outputs": [
    {
     "data": {
      "text/plain": [
       "['a', 'few', 'words', 'in', 'a', 'string']"
      ]
     },
     "execution_count": 38,
     "metadata": {},
     "output_type": "execute_result"
    }
   ],
   "source": [
    "# Breaking it down\n",
    "my_str.split()"
   ]
  },
  {
   "cell_type": "code",
   "execution_count": 40,
   "metadata": {},
   "outputs": [
    {
     "data": {
      "text/plain": [
       "1"
      ]
     },
     "execution_count": 40,
     "metadata": {},
     "output_type": "execute_result"
    }
   ],
   "source": [
    "my_str.split().index(\"few\")"
   ]
  },
  {
   "cell_type": "code",
   "execution_count": 41,
   "metadata": {},
   "outputs": [
    {
     "data": {
      "text/plain": [
       "['a ', ' words in a string']"
      ]
     },
     "execution_count": 41,
     "metadata": {},
     "output_type": "execute_result"
    }
   ],
   "source": [
    "my_str.split(sep = \"few\")"
   ]
  },
  {
   "cell_type": "code",
   "execution_count": 52,
   "metadata": {},
   "outputs": [],
   "source": [
    "# Create a word list\n",
    "word_list = my_str.split()"
   ]
  },
  {
   "cell_type": "code",
   "execution_count": 53,
   "metadata": {},
   "outputs": [
    {
     "data": {
      "text/plain": [
       "['!', 'few', 'words', 'in', 'a', 'string']"
      ]
     },
     "execution_count": 53,
     "metadata": {},
     "output_type": "execute_result"
    }
   ],
   "source": [
    "# Replace the first word with !\n",
    "word_list[0] = \"!\"\n",
    "word_list"
   ]
  },
  {
   "cell_type": "markdown",
   "metadata": {},
   "source": [
    "## For loops"
   ]
  },
  {
   "cell_type": "markdown",
   "metadata": {},
   "source": [
    "When to write for loop:\n",
    "1. Not creating a Python object. Therefore, when you're printing or creating a file.\n",
    "2. When you are translating math into code (e.g. summation using +=)"
   ]
  },
  {
   "cell_type": "code",
   "execution_count": 61,
   "metadata": {},
   "outputs": [
    {
     "name": "stdout",
     "output_type": "stream",
     "text": [
      "iteration: 1\n",
      "value: 1\n",
      "iteration: 2\n",
      "value: 2\n",
      "iteration: 3\n",
      "value: 6\n",
      "iteration: 4\n",
      "value: 24\n",
      "iteration: 5\n",
      "value: 120\n",
      "iteration: 6\n",
      "value: 720\n",
      "iteration: 7\n",
      "value: 5040\n",
      "iteration: 8\n",
      "value: 40320\n"
     ]
    }
   ],
   "source": [
    "y = 1\n",
    "for i in range(1, 9):\n",
    "    print(f\"iteration: {i}\")\n",
    "    y *= i\n",
    "    print(f\"value: {y}\")"
   ]
  },
  {
   "cell_type": "code",
   "execution_count": 62,
   "metadata": {},
   "outputs": [
    {
     "name": "stdout",
     "output_type": "stream",
     "text": [
      "True\n",
      "True\n",
      "False\n",
      "False\n"
     ]
    }
   ],
   "source": [
    "for huzzah in range(4):\n",
    "    print(huzzah <= 1)"
   ]
  },
  {
   "cell_type": "code",
   "execution_count": 64,
   "metadata": {},
   "outputs": [],
   "source": [
    "import pathlib\n",
    "\n",
    "for i in range(9):\n",
    "    pathlib.Path(\n",
    "        f\"test{i}.txt\"\n",
    "    ).write_text(\n",
    "        f\"This is file {i}.\"\n",
    "    )"
   ]
  },
  {
   "cell_type": "markdown",
   "metadata": {},
   "source": [
    "## Functions"
   ]
  },
  {
   "cell_type": "code",
   "execution_count": null,
   "metadata": {},
   "outputs": [],
   "source": [
    "# When to write a function:\n",
    "# 1. Always!\n",
    "# 2. Whenever you might need to reuse code\n",
    "# 3. When you want to abstract away complex code\n",
    "# 4. When you want to document your code (be a good human being)\n",
    "\n",
    "# Define a function called word_count\n",
    "def word_count(string: str):\n",
    "    \"\"\"Count the words in a string.\n",
    "\n",
    "    Arguments:\n",
    "        string: A string that contains words.\n",
    "\n",
    "    Returns:\n",
    "        int: The number of words in the input string.\n",
    "\n",
    "    \"\"\"\n",
    "    word_list = string.split()\n",
    "    return len(word_list)\n",
    "\n",
    "print(word_count.__doc__)\n",
    "print(word_count.__annotations__)\n",
    "help(word_count)\n",
    "\n",
    "# Define a function called triple\n",
    "def triple(x: int):\n",
    "    # Python ignores comments entirely\n",
    "    \"\"\"Docstrings get stored in the __doc__ attribute.\"\"\"\n",
    "    return x*3\n",
    "\n",
    "# Access the information on the triple function\n",
    "print(triple.__doc__)\n",
    "print(triple.__annotations__)\n",
    "help(triple)\n",
    "\n",
    "def triple(x: int):\n",
    "    \"\"\"Multiply a number by three.\"\"\"\n",
    "    return x * 3\n",
    "\n",
    "# If a function has a docstring,\n",
    "# it can be defined without a code block\n",
    "def triple(x: int):\n",
    "    # Python ignores comments entirely\n",
    "    \"\"\"Functions without return statements return None.\"\"\"\n",
    "\n",
    "# Access the information on the triple function\n",
    "print(triple.__doc__)\n",
    "help(triple)\n",
    "\n",
    "# Access the information on the triple function\n",
    "\n",
    "# Define a function called average\n",
    "from typing import List\n",
    "\n",
    "def average(x: List[float]) -> float:\n",
    "    \"\"\"Average a list of numbers.\n",
    "\n",
    "    The mean (average) of a series of numbers is\n",
    "    the sum of the series divided by the\n",
    "    the length of the series.\n",
    "\n",
    "    Arguments:\n",
    "        x: An iterable containing numbers.\n",
    "\n",
    "    Returns:\n",
    "        The mean of input values.\n",
    "    \"\"\"\n",
    "    return sum(x) / len(x)\n",
    "\n",
    "# Define a function called median\n",
    "def median(x: List[float]) -> float:\n",
    "    \"\"\"Return the median.\n",
    "\n",
    "    The median is the middle value\n",
    "    if the length of x is odd or\n",
    "    the average of the two middle values\n",
    "    if the length of x is even.\n",
    "\n",
    "    Arguments:\n",
    "        x: An iterable containing numbers.\n",
    "\n",
    "    Returns:\n",
    "        The middle value or average of middle values.\n",
    "    \"\"\"\n",
    "    sorted_series = sorted(x)\n",
    "    series_length = len(x)\n",
    "    middle_index = series_length // 2\n",
    "    middle_value = sorted_series[middle_index]\n",
    "    if series_length % 2 != 0:\n",
    "        return middle_value\n",
    "    else:\n",
    "        return (middle_value + sorted_series[middle_index - 1]) / 2"
   ]
  }
 ],
 "metadata": {
  "kernelspec": {
   "display_name": "Python 3",
   "language": "python",
   "name": "python3"
  },
  "language_info": {
   "codemirror_mode": {
    "name": "ipython",
    "version": 3
   },
   "file_extension": ".py",
   "mimetype": "text/x-python",
   "name": "python",
   "nbconvert_exporter": "python",
   "pygments_lexer": "ipython3",
   "version": "3.7.3"
  }
 },
 "nbformat": 4,
 "nbformat_minor": 4
}
