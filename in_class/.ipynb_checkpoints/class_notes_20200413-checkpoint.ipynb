{
 "cells": [
  {
   "cell_type": "markdown",
   "metadata": {},
   "source": [
    "# Today 4/13/2020 BIOF309 - Python\n",
    "## Talking about APIs"
   ]
  },
  {
   "cell_type": "markdown",
   "metadata": {},
   "source": [
    "API is Application Programming Interface\n",
    "It defines the kinds of calls or requests that can be made, how to make them, the data formats that should be used, the conventions to follow, etc."
   ]
  },
  {
   "cell_type": "code",
   "execution_count": 1,
   "metadata": {},
   "outputs": [],
   "source": [
    "import requests"
   ]
  },
  {
   "cell_type": "code",
   "execution_count": 20,
   "metadata": {},
   "outputs": [],
   "source": [
    "request_data = requests.get(\"https://pokeapi.co/api/v2/pokemon\")\n",
    "# Really just takes a URL and creates a request object"
   ]
  },
  {
   "cell_type": "code",
   "execution_count": 21,
   "metadata": {},
   "outputs": [
    {
     "data": {
      "text/plain": [
       "<Response [200]>"
      ]
     },
     "execution_count": 21,
     "metadata": {},
     "output_type": "execute_result"
    }
   ],
   "source": [
    "request_data\n",
    "# response 200 means it works"
   ]
  },
  {
   "cell_type": "code",
   "execution_count": 22,
   "metadata": {},
   "outputs": [
    {
     "data": {
      "text/plain": [
       "True"
      ]
     },
     "execution_count": 22,
     "metadata": {},
     "output_type": "execute_result"
    }
   ],
   "source": [
    "request_data.ok"
   ]
  },
  {
   "cell_type": "code",
   "execution_count": 23,
   "metadata": {},
   "outputs": [
    {
     "data": {
      "text/plain": [
       "{'count': 964,\n",
       " 'next': 'https://pokeapi.co/api/v2/pokemon?offset=20&limit=20',\n",
       " 'previous': None,\n",
       " 'results': [{'name': 'bulbasaur',\n",
       "   'url': 'https://pokeapi.co/api/v2/pokemon/1/'},\n",
       "  {'name': 'ivysaur', 'url': 'https://pokeapi.co/api/v2/pokemon/2/'},\n",
       "  {'name': 'venusaur', 'url': 'https://pokeapi.co/api/v2/pokemon/3/'},\n",
       "  {'name': 'charmander', 'url': 'https://pokeapi.co/api/v2/pokemon/4/'},\n",
       "  {'name': 'charmeleon', 'url': 'https://pokeapi.co/api/v2/pokemon/5/'},\n",
       "  {'name': 'charizard', 'url': 'https://pokeapi.co/api/v2/pokemon/6/'},\n",
       "  {'name': 'squirtle', 'url': 'https://pokeapi.co/api/v2/pokemon/7/'},\n",
       "  {'name': 'wartortle', 'url': 'https://pokeapi.co/api/v2/pokemon/8/'},\n",
       "  {'name': 'blastoise', 'url': 'https://pokeapi.co/api/v2/pokemon/9/'},\n",
       "  {'name': 'caterpie', 'url': 'https://pokeapi.co/api/v2/pokemon/10/'},\n",
       "  {'name': 'metapod', 'url': 'https://pokeapi.co/api/v2/pokemon/11/'},\n",
       "  {'name': 'butterfree', 'url': 'https://pokeapi.co/api/v2/pokemon/12/'},\n",
       "  {'name': 'weedle', 'url': 'https://pokeapi.co/api/v2/pokemon/13/'},\n",
       "  {'name': 'kakuna', 'url': 'https://pokeapi.co/api/v2/pokemon/14/'},\n",
       "  {'name': 'beedrill', 'url': 'https://pokeapi.co/api/v2/pokemon/15/'},\n",
       "  {'name': 'pidgey', 'url': 'https://pokeapi.co/api/v2/pokemon/16/'},\n",
       "  {'name': 'pidgeotto', 'url': 'https://pokeapi.co/api/v2/pokemon/17/'},\n",
       "  {'name': 'pidgeot', 'url': 'https://pokeapi.co/api/v2/pokemon/18/'},\n",
       "  {'name': 'rattata', 'url': 'https://pokeapi.co/api/v2/pokemon/19/'},\n",
       "  {'name': 'raticate', 'url': 'https://pokeapi.co/api/v2/pokemon/20/'}]}"
      ]
     },
     "execution_count": 23,
     "metadata": {},
     "output_type": "execute_result"
    }
   ],
   "source": [
    "request_data.json()"
   ]
  },
  {
   "cell_type": "code",
   "execution_count": 24,
   "metadata": {},
   "outputs": [
    {
     "data": {
      "text/plain": [
       "dict"
      ]
     },
     "execution_count": 24,
     "metadata": {},
     "output_type": "execute_result"
    }
   ],
   "source": [
    "type(request_data.json())\n",
    "# here, json is stored as a dictionary"
   ]
  },
  {
   "cell_type": "code",
   "execution_count": 28,
   "metadata": {},
   "outputs": [],
   "source": [
    "# Get pikachu\n",
    "request_data = requests.get(\"https://pokeapi.co/api/v2/pokemon/pikachu\")\n",
    "# Really just takes a URL and creates a request object"
   ]
  },
  {
   "cell_type": "code",
   "execution_count": 30,
   "metadata": {},
   "outputs": [
    {
     "data": {
      "text/plain": [
       "['abilities',\n",
       " 'base_experience',\n",
       " 'forms',\n",
       " 'game_indices',\n",
       " 'height',\n",
       " 'held_items',\n",
       " 'id',\n",
       " 'is_default',\n",
       " 'location_area_encounters',\n",
       " 'moves',\n",
       " 'name',\n",
       " 'order',\n",
       " 'species',\n",
       " 'sprites',\n",
       " 'stats',\n",
       " 'types',\n",
       " 'weight']"
      ]
     },
     "execution_count": 30,
     "metadata": {},
     "output_type": "execute_result"
    }
   ],
   "source": [
    "# Look at the keys\n",
    "list(request_data.json().keys())"
   ]
  },
  {
   "cell_type": "code",
   "execution_count": 31,
   "metadata": {},
   "outputs": [],
   "source": [
    "# display an image\n",
    "from IPython.display import Image"
   ]
  },
  {
   "cell_type": "code",
   "execution_count": 32,
   "metadata": {},
   "outputs": [
    {
     "data": {
      "image/png": "[encoded data removed]",
      "text/plain": [
       "<IPython.core.display.Image object>"
      ]
     },
     "execution_count": 32,
     "metadata": {},
     "output_type": "execute_result"
    }
   ],
   "source": [
    "Image(request_data.json()[\"sprites\"][\"front_default\"])"
   ]
  },
  {
   "cell_type": "code",
   "execution_count": 33,
   "metadata": {},
   "outputs": [
    {
     "data": {
      "image/png": "[encoded data removed]",
      "text/plain": [
       "<IPython.core.display.Image object>"
      ]
     },
     "execution_count": 33,
     "metadata": {},
     "output_type": "execute_result"
    }
   ],
   "source": [
    "Image(request_data.json()[\"sprites\"][\"front_female\"])\n",
    "# tiny difference in tail LOL"
   ]
  },
  {
   "cell_type": "code",
   "execution_count": 34,
   "metadata": {},
   "outputs": [
    {
     "data": {
      "image/png": "[encoded data removed]",
      "text/plain": [
       "<IPython.core.display.Image object>"
      ]
     },
     "execution_count": 34,
     "metadata": {},
     "output_type": "execute_result"
    }
   ],
   "source": [
    "Image(request_data.json()[\"sprites\"][\"front_shiny\"])"
   ]
  },
  {
   "cell_type": "markdown",
   "metadata": {},
   "source": [
    "# Script Martin wrote"
   ]
  },
  {
   "cell_type": "code",
   "execution_count": null,
   "metadata": {},
   "outputs": [],
   "source": []
  },
  {
   "cell_type": "code",
   "execution_count": 35,
   "metadata": {},
   "outputs": [],
   "source": [
    "from typing import List, Dict, KeysView, ItemsView, ValuesView\n",
    "\n",
    "import requests\n",
    "import IPython\n",
    "\n",
    "\n",
    "class Pokemon:\n",
    "    \n",
    "    def __init__(self, name):\n",
    "        self.name = name\n",
    "        self.url = \"https://pokeapi.co/api/v2/pokemon/\" + name\n",
    "\n",
    "    @property\n",
    "    def keys(self) -> KeysView:\n",
    "        return requests.get(self.url).json().keys()\n",
    "\n",
    "    @property\n",
    "    def values(self) -> ValuesView:\n",
    "        return requests.get(self.url).json().values()\n",
    "\n",
    "    @property\n",
    "    def items(self) -> ItemsView:\n",
    "        return requests.get(self.url).json().items()\n",
    "\n",
    "    @property\n",
    "    def abilities(self) -> List:\n",
    "        return requests.get(self.url).json()[\"abilities\"]\n",
    "\n",
    "    @property\n",
    "    def ability_names(self) -> List:\n",
    "        return [\n",
    "            d[\"ability\"][\"name\"]\n",
    "            for d in requests.get(\n",
    "                self.url\n",
    "            ).json()[\"abilities\"]\n",
    "        ]\n",
    "\n",
    "    @property\n",
    "    def base_experience(self) -> int:\n",
    "        return requests.get(self.url).json()[\"base_experience\"]\n",
    "\n",
    "    @property\n",
    "    def forms(self) -> List:\n",
    "        return requests.get(self.url).json()[\"forms\"]\n",
    "\n",
    "    @property\n",
    "    def game_indices(self) -> List:\n",
    "        return requests.get(self.url).json()[\"game_indices\"]\n",
    "\n",
    "    @property\n",
    "    def held_items(self) -> List:\n",
    "        return requests.get(self.url).json()[\"held_items\"]\n",
    "\n",
    "    @property\n",
    "    def height(self) -> int:\n",
    "        return requests.get(self.url).json()[\"height\"]\n",
    "\n",
    "    @property\n",
    "    def id(self) -> int:\n",
    "        return requests.get(self.url).json()[\"id\"]\n",
    "\n",
    "    @property\n",
    "    def is_default(self) -> bool:\n",
    "        return requests.get(self.url).json()[\"is_default\"]\n",
    "\n",
    "    @property\n",
    "    def location_area_encounters(self) -> str:\n",
    "        return requests.get(\n",
    "            self.url\n",
    "        ).json()[\"location_area_encounters\"]\n",
    "\n",
    "    @property\n",
    "    def moves(self) -> List:\n",
    "        return requests.get(self.url).json()[\"moves\"]\n",
    "\n",
    "    @property\n",
    "    def move_names(self) -> List:\n",
    "        return [\n",
    "            d[\"move\"][\"name\"]\n",
    "            for d in requests.get(\n",
    "                self.url\n",
    "            ).json()[\"moves\"]\n",
    "        ]\n",
    "\n",
    "    @property\n",
    "    def order(self) -> int:\n",
    "        return requests.get(self.url).json()[\"order\"]\n",
    "\n",
    "    @property\n",
    "    def species(self) -> Dict:\n",
    "        return requests.get(self.url).json()[\"species\"]\n",
    "\n",
    "    @property\n",
    "    def sprites(self) -> Dict:\n",
    "        return requests.get(self.url).json()[\"sprites\"]\n",
    "\n",
    "    @property\n",
    "    def sprite_options(self) -> KeysView:\n",
    "        return requests.get(self.url).json()[\"sprites\"].keys()\n",
    "\n",
    "    @property\n",
    "    def stats(self) -> List:\n",
    "        return requests.get(self.url).json()[\"stats\"]\n",
    "\n",
    "    @property\n",
    "    def types(self) -> List:\n",
    "        return requests.get(self.url).json()[\"types\"]\n",
    "\n",
    "    @property\n",
    "    def weight(self) -> int:\n",
    "        return requests.get(self.url).json()[\"weight\"]\n",
    "\n",
    "    def get_ability(self, ability_name: str) -> Dict:\n",
    "        return {\n",
    "            d[\"ability\"][\"name\"]: d[\"ability\"]\n",
    "            for d in\n",
    "            requests.get(\n",
    "                self.url\n",
    "            ).json()[\"abilities\"]\n",
    "        }[ability_name]\n",
    "\n",
    "    def get_move(self, move_name: str) -> Dict:\n",
    "        return {\n",
    "            d[\"move\"][\"name\"]: d[\"move\"]\n",
    "            for d in\n",
    "            requests.get(\n",
    "                self.url\n",
    "            ).json()[\"moves\"]\n",
    "        }[move_name]\n",
    "\n",
    "    def get_sprite(\n",
    "            self,\n",
    "            sprite_option: str = \"front_default\"\n",
    "    ) -> IPython.core.display.Image:\n",
    "        return IPython.display.Image(requests.get(\n",
    "            self.url\n",
    "        ).json()[\"sprites\"][sprite_option])\n",
    "\n",
    "if __name__ == '__main__':\n",
    "    b = Pokemon(\"bulbasaur\")\n",
    "    b.get_ability(b.ability_names[0])\n",
    "    b.get_move(b.move_names[0])\n",
    "    b.get_sprite()"
   ]
  },
  {
   "cell_type": "code",
   "execution_count": 42,
   "metadata": {},
   "outputs": [
    {
     "data": {
      "text/plain": [
       "{'sprite_option': str, 'return': IPython.core.display.Image}"
      ]
     },
     "execution_count": 42,
     "metadata": {},
     "output_type": "execute_result"
    }
   ],
   "source": [
    "Pokemon.get_sprite.__annotations__"
   ]
  },
  {
   "cell_type": "code",
   "execution_count": 43,
   "metadata": {},
   "outputs": [],
   "source": [
    "# Let's use it\n",
    "b = Pokemon(\"bulbasaur\")"
   ]
  },
  {
   "cell_type": "code",
   "execution_count": 45,
   "metadata": {},
   "outputs": [
    {
     "data": {
      "text/plain": [
       "{'name': 'chlorophyll', 'url': 'https://pokeapi.co/api/v2/ability/34/'}"
      ]
     },
     "execution_count": 45,
     "metadata": {},
     "output_type": "execute_result"
    }
   ],
   "source": [
    "b.get_ability(b.ability_names[0])"
   ]
  },
  {
   "cell_type": "code",
   "execution_count": 46,
   "metadata": {},
   "outputs": [
    {
     "data": {
      "text/plain": [
       "['razor-wind',\n",
       " 'swords-dance',\n",
       " 'cut',\n",
       " 'bind',\n",
       " 'vine-whip',\n",
       " 'headbutt',\n",
       " 'tackle',\n",
       " 'body-slam',\n",
       " 'take-down',\n",
       " 'double-edge',\n",
       " 'growl',\n",
       " 'strength',\n",
       " 'mega-drain',\n",
       " 'leech-seed',\n",
       " 'growth',\n",
       " 'razor-leaf',\n",
       " 'solar-beam',\n",
       " 'poison-powder',\n",
       " 'sleep-powder',\n",
       " 'petal-dance',\n",
       " 'string-shot',\n",
       " 'toxic',\n",
       " 'rage',\n",
       " 'mimic',\n",
       " 'double-team',\n",
       " 'defense-curl',\n",
       " 'light-screen',\n",
       " 'reflect',\n",
       " 'bide',\n",
       " 'sludge',\n",
       " 'skull-bash',\n",
       " 'amnesia',\n",
       " 'flash',\n",
       " 'rest',\n",
       " 'substitute',\n",
       " 'snore',\n",
       " 'curse',\n",
       " 'protect',\n",
       " 'sludge-bomb',\n",
       " 'mud-slap',\n",
       " 'giga-drain',\n",
       " 'endure',\n",
       " 'charm',\n",
       " 'swagger',\n",
       " 'fury-cutter',\n",
       " 'attract',\n",
       " 'sleep-talk',\n",
       " 'return',\n",
       " 'frustration',\n",
       " 'safeguard',\n",
       " 'sweet-scent',\n",
       " 'synthesis',\n",
       " 'hidden-power',\n",
       " 'sunny-day',\n",
       " 'rock-smash',\n",
       " 'facade',\n",
       " 'nature-power',\n",
       " 'ingrain',\n",
       " 'knock-off',\n",
       " 'secret-power',\n",
       " 'grass-whistle',\n",
       " 'bullet-seed',\n",
       " 'magical-leaf',\n",
       " 'natural-gift',\n",
       " 'worry-seed',\n",
       " 'seed-bomb',\n",
       " 'energy-ball',\n",
       " 'leaf-storm',\n",
       " 'power-whip',\n",
       " 'captivate',\n",
       " 'grass-knot',\n",
       " 'venoshock',\n",
       " 'round',\n",
       " 'echoed-voice',\n",
       " 'grass-pledge',\n",
       " 'work-up',\n",
       " 'grassy-terrain',\n",
       " 'confide']"
      ]
     },
     "execution_count": 46,
     "metadata": {},
     "output_type": "execute_result"
    }
   ],
   "source": [
    "b.move_names"
   ]
  },
  {
   "cell_type": "code",
   "execution_count": 47,
   "metadata": {},
   "outputs": [
    {
     "data": {
      "text/plain": [
       "{'name': 'razor-wind', 'url': 'https://pokeapi.co/api/v2/move/13/'}"
      ]
     },
     "execution_count": 47,
     "metadata": {},
     "output_type": "execute_result"
    }
   ],
   "source": [
    "b.get_move(b.move_names[0])"
   ]
  },
  {
   "cell_type": "code",
   "execution_count": 48,
   "metadata": {},
   "outputs": [
    {
     "data": {
      "text/plain": [
       "['accuracy',\n",
       " 'contest_combos',\n",
       " 'contest_effect',\n",
       " 'contest_type',\n",
       " 'damage_class',\n",
       " 'effect_chance',\n",
       " 'effect_changes',\n",
       " 'effect_entries',\n",
       " 'flavor_text_entries',\n",
       " 'generation',\n",
       " 'id',\n",
       " 'machines',\n",
       " 'meta',\n",
       " 'name',\n",
       " 'names',\n",
       " 'past_values',\n",
       " 'power',\n",
       " 'pp',\n",
       " 'priority',\n",
       " 'stat_changes',\n",
       " 'super_contest_effect',\n",
       " 'target',\n",
       " 'type']"
      ]
     },
     "execution_count": 48,
     "metadata": {},
     "output_type": "execute_result"
    }
   ],
   "source": [
    "# We can retrieve the dictionary on that move from the url\n",
    "list(requests.get(b.get_move(b.move_names[0])[\"url\"]).json())"
   ]
  },
  {
   "cell_type": "code",
   "execution_count": 50,
   "metadata": {},
   "outputs": [
    {
     "data": {
      "text/plain": [
       "80"
      ]
     },
     "execution_count": 50,
     "metadata": {},
     "output_type": "execute_result"
    }
   ],
   "source": [
    "# We could look at one of those atrributes\n",
    "requests.get(b.get_move(b.move_names[0])[\"url\"]).json()[\"power\"]"
   ]
  },
  {
   "cell_type": "code",
   "execution_count": 53,
   "metadata": {},
   "outputs": [],
   "source": [
    "# We could get the power values for Bulbasaur's first 10 moves\n",
    "powers = [requests.get(b.get_move(b.move_names[i])[\"url\"]).json()[\"power\"] for i in range(10)]"
   ]
  },
  {
   "cell_type": "code",
   "execution_count": 54,
   "metadata": {},
   "outputs": [
    {
     "data": {
      "text/plain": [
       "[80, None, 50, 15, 45, 70, 40, 85, 90, 120]"
      ]
     },
     "execution_count": 54,
     "metadata": {},
     "output_type": "execute_result"
    }
   ],
   "source": [
    "powers"
   ]
  },
  {
   "cell_type": "code",
   "execution_count": 56,
   "metadata": {},
   "outputs": [],
   "source": [
    "# Even better, we could get the move name also and keep this together in a dictionary\n",
    "powers_dict = {b.move_names[i]: requests.get(b.get_move(b.move_names[i])[\"url\"]).json()[\"power\"] for i in range(10)}"
   ]
  },
  {
   "cell_type": "code",
   "execution_count": 57,
   "metadata": {},
   "outputs": [
    {
     "data": {
      "text/plain": [
       "{'razor-wind': 80,\n",
       " 'swords-dance': None,\n",
       " 'cut': 50,\n",
       " 'bind': 15,\n",
       " 'vine-whip': 45,\n",
       " 'headbutt': 70,\n",
       " 'tackle': 40,\n",
       " 'body-slam': 85,\n",
       " 'take-down': 90,\n",
       " 'double-edge': 120}"
      ]
     },
     "execution_count": 57,
     "metadata": {},
     "output_type": "execute_result"
    }
   ],
   "source": [
    "powers_dict"
   ]
  },
  {
   "cell_type": "code",
   "execution_count": 58,
   "metadata": {},
   "outputs": [],
   "source": [
    "import pandas as pd"
   ]
  },
  {
   "cell_type": "code",
   "execution_count": 60,
   "metadata": {},
   "outputs": [
    {
     "data": {
      "text/plain": [
       "<matplotlib.axes._subplots.AxesSubplot at 0x1261f0400>"
      ]
     },
     "execution_count": 60,
     "metadata": {},
     "output_type": "execute_result"
    },
    {
     "data": {
      "image/png": "[encoded data removed]",
      "text/plain": [
       "<Figure size 432x288 with 1 Axes>"
      ]
     },
     "metadata": {
      "needs_background": "light"
     },
     "output_type": "display_data"
    }
   ],
   "source": [
    "%matplotlib inline # This you add to make the plot show in python jupyter notebook\n",
    "pd.DataFrame(powers_dict, index = [\"bulbasaur\"]).plot.barh()"
   ]
  },
  {
   "cell_type": "code",
   "execution_count": 62,
   "metadata": {},
   "outputs": [],
   "source": [
    "# Pandas has matplotlib but we can also explicityl import\n",
    "import matplotlib.pyplot as plt"
   ]
  },
  {
   "cell_type": "code",
   "execution_count": 66,
   "metadata": {},
   "outputs": [
    {
     "data": {
      "image/png": "[encoded data removed]",
      "text/plain": [
       "<Figure size 432x288 with 1 Axes>"
      ]
     },
     "metadata": {
      "needs_background": "light"
     },
     "output_type": "display_data"
    }
   ],
   "source": [
    "pd.DataFrame(powers_dict, index = [\"bulbasaur\"]).plot.barh()\n",
    "plt.title(f\"Power values for {b.name}\"); # Semicolon represses printing"
   ]
  },
  {
   "cell_type": "code",
   "execution_count": 67,
   "metadata": {},
   "outputs": [
    {
     "name": "stdout",
     "output_type": "stream",
     "text": [
      "Power values for bulbasaur\n"
     ]
    }
   ],
   "source": [
    "# above is fstrings. important\n",
    "print(f\"Power values for {b.name}\")"
   ]
  },
  {
   "cell_type": "code",
   "execution_count": 69,
   "metadata": {},
   "outputs": [
    {
     "name": "stdout",
     "output_type": "stream",
     "text": [
      "Power values for {b.name}\n"
     ]
    }
   ],
   "source": [
    "print(\"Power values for {b.name}\")"
   ]
  },
  {
   "cell_type": "code",
   "execution_count": 72,
   "metadata": {},
   "outputs": [],
   "source": [
    "# Repeat all of this for pikachu\n",
    "p = Pokemon(\"pikachu\")\n",
    "pika_powers_dict = {p.move_names[i]: requests.get(p.get_move(p.move_names[i])[\"url\"]).json()[\"power\"] for i in range(10)}"
   ]
  },
  {
   "cell_type": "code",
   "execution_count": 82,
   "metadata": {},
   "outputs": [
    {
     "data": {
      "image/png": "[encoded data removed]",
      "text/plain": [
       "<Figure size 432x288 with 1 Axes>"
      ]
     },
     "metadata": {
      "needs_background": "light"
     },
     "output_type": "display_data"
    }
   ],
   "source": [
    "df = pd.DataFrame(pika_powers_dict, index = [\"pikachu\"])\n",
    "df = df.melt(var_name = \"move\", value_name = \"power\")\n",
    "df = df.set_index(\"move\")\n",
    "df.plot.barh(legend = False)\n",
    "plt.suptitle(f\"Power values for {p.name}\");\n",
    "plt.title(f\"Obtained from {p.url}\"); "
   ]
  },
  {
   "cell_type": "code",
   "execution_count": 84,
   "metadata": {},
   "outputs": [
    {
     "data": {
      "text/html": [
       "<div>\n",
       "<style scoped>\n",
       "    .dataframe tbody tr th:only-of-type {\n",
       "        vertical-align: middle;\n",
       "    }\n",
       "\n",
       "    .dataframe tbody tr th {\n",
       "        vertical-align: top;\n",
       "    }\n",
       "\n",
       "    .dataframe thead th {\n",
       "        text-align: right;\n",
       "    }\n",
       "</style>\n",
       "<table border=\"1\" class=\"dataframe\">\n",
       "  <thead>\n",
       "    <tr style=\"text-align: right;\">\n",
       "      <th></th>\n",
       "      <th>power</th>\n",
       "    </tr>\n",
       "    <tr>\n",
       "      <th>move</th>\n",
       "      <th></th>\n",
       "    </tr>\n",
       "  </thead>\n",
       "  <tbody>\n",
       "    <tr>\n",
       "      <th>mega-punch</th>\n",
       "      <td>80</td>\n",
       "    </tr>\n",
       "    <tr>\n",
       "      <th>pay-day</th>\n",
       "      <td>40</td>\n",
       "    </tr>\n",
       "    <tr>\n",
       "      <th>thunder-punch</th>\n",
       "      <td>75</td>\n",
       "    </tr>\n",
       "    <tr>\n",
       "      <th>slam</th>\n",
       "      <td>80</td>\n",
       "    </tr>\n",
       "    <tr>\n",
       "      <th>mega-kick</th>\n",
       "      <td>120</td>\n",
       "    </tr>\n",
       "    <tr>\n",
       "      <th>headbutt</th>\n",
       "      <td>70</td>\n",
       "    </tr>\n",
       "    <tr>\n",
       "      <th>body-slam</th>\n",
       "      <td>85</td>\n",
       "    </tr>\n",
       "    <tr>\n",
       "      <th>take-down</th>\n",
       "      <td>90</td>\n",
       "    </tr>\n",
       "    <tr>\n",
       "      <th>double-edge</th>\n",
       "      <td>120</td>\n",
       "    </tr>\n",
       "    <tr>\n",
       "      <th>tail-whip</th>\n",
       "      <td>None</td>\n",
       "    </tr>\n",
       "  </tbody>\n",
       "</table>\n",
       "</div>"
      ],
      "text/plain": [
       "              power\n",
       "move               \n",
       "mega-punch       80\n",
       "pay-day          40\n",
       "thunder-punch    75\n",
       "slam             80\n",
       "mega-kick       120\n",
       "headbutt         70\n",
       "body-slam        85\n",
       "take-down        90\n",
       "double-edge     120\n",
       "tail-whip      None"
      ]
     },
     "execution_count": 84,
     "metadata": {},
     "output_type": "execute_result"
    }
   ],
   "source": [
    "df"
   ]
  },
  {
   "cell_type": "code",
   "execution_count": 89,
   "metadata": {},
   "outputs": [
    {
     "name": "stdout",
     "output_type": "stream",
     "text": [
      "['#1f77b4', '#ff7f0e', '#2ca02c', '#d62728', '#9467bd', '#8c564b', '#e377c2', '#7f7f7f', '#bcbd22', '#17becf']\n"
     ]
    }
   ],
   "source": [
    "# I want to see if we can get our colors back\n",
    "print(plt.rcParams['axes.prop_cycle'].by_key()['color'])"
   ]
  },
  {
   "cell_type": "code",
   "execution_count": 90,
   "metadata": {},
   "outputs": [
    {
     "data": {
      "text/plain": [
       "list"
      ]
     },
     "execution_count": 90,
     "metadata": {},
     "output_type": "execute_result"
    }
   ],
   "source": [
    "type(plt.rcParams['axes.prop_cycle'].by_key()['color'])"
   ]
  },
  {
   "cell_type": "code",
   "execution_count": 97,
   "metadata": {},
   "outputs": [
    {
     "data": {
      "image/png": "[encoded data removed]",
      "text/plain": [
       "<Figure size 432x288 with 1 Axes>"
      ]
     },
     "metadata": {
      "needs_background": "light"
     },
     "output_type": "display_data"
    }
   ],
   "source": [
    "# Let's try it\n",
    "df = pd.DataFrame(pika_powers_dict, index = [\"pikachu\"])\n",
    "df = df.melt(var_name = \"move\", value_name = \"power\")\n",
    "df = df.set_index(\"move\")\n",
    "df.plot.barh(legend = False)\n",
    "plt.suptitle(f\"Power values for {p.name}\");\n",
    "plt.title(f\"Obtained from {p.url}\"); \n",
    "# Doesn't work, I tihnk because dataframe has melted"
   ]
  },
  {
   "cell_type": "code",
   "execution_count": 99,
   "metadata": {},
   "outputs": [
    {
     "data": {
      "image/png": "[encoded data removed]",
      "text/plain": [
       "<Figure size 432x288 with 1 Axes>"
      ]
     },
     "metadata": {
      "needs_background": "light"
     },
     "output_type": "display_data"
    }
   ],
   "source": [
    "# Repeat for 20 moves\n",
    "p = Pokemon(\"pikachu\")\n",
    "pika_powers_dict = {p.move_names[i]: requests.get(p.get_move(p.move_names[i])[\"url\"]).json()[\"power\"] for i in range(20)}\n",
    "df = pd.DataFrame(pika_powers_dict, index = [\"pikachu\"])\n",
    "df = df.melt(var_name = \"move\", value_name = \"power\")\n",
    "df = df.set_index(\"move\")\n",
    "df.plot.barh(legend = False)\n",
    "plt.suptitle(f\"Power values for {p.name}\");\n",
    "plt.title(f\"Obtained from {p.url}\"); "
   ]
  },
  {
   "cell_type": "code",
   "execution_count": 101,
   "metadata": {},
   "outputs": [
    {
     "data": {
      "image/png": "[encoded data removed]",
      "text/plain": [
       "<Figure size 432x288 with 1 Axes>"
      ]
     },
     "metadata": {
      "needs_background": "light"
     },
     "output_type": "display_data"
    }
   ],
   "source": [
    "p = Pokemon(\"cyndaquil\")\n",
    "powers_dict = {p.move_names[i]: requests.get(p.get_move(p.move_names[i])[\"url\"]).json()[\"power\"] for i in range(10)}\n",
    "df = pd.DataFrame(powers_dict, index = [\"cyndaquil\"])\n",
    "df = df.melt(var_name = \"move\", value_name = \"power\")\n",
    "df = df.set_index(\"move\")\n",
    "df.plot.barh(legend = False)\n",
    "plt.suptitle(f\"Power values for {p.name}\");\n",
    "plt.title(f\"Obtained from {p.url}\"); "
   ]
  },
  {
   "cell_type": "code",
   "execution_count": 103,
   "metadata": {},
   "outputs": [
    {
     "data": {
      "image/png": "[encoded data removed]",
      "text/plain": [
       "<IPython.core.display.Image object>"
      ]
     },
     "execution_count": 103,
     "metadata": {},
     "output_type": "execute_result"
    }
   ],
   "source": [
    "p.get_sprite()"
   ]
  },
  {
   "cell_type": "code",
   "execution_count": 105,
   "metadata": {},
   "outputs": [],
   "source": [
    "# we can put what we did into the class\n",
    "# Martin's code below"
   ]
  },
  {
   "cell_type": "code",
   "execution_count": 108,
   "metadata": {},
   "outputs": [],
   "source": [
    "from typing import List, Dict, KeysView, ItemsView, ValuesView\n",
    "\n",
    "import requests\n",
    "import IPython\n",
    "import pandas as pd\n",
    "import matplotlib.pyplot as plt\n",
    "\n",
    "class Pokemon:\n",
    "    \n",
    "    def __init__(self, name) -> None:\n",
    "        self.name = name\n",
    "        self.url = \"https://pokeapi.co/api/v2/pokemon/\" + name\n",
    "\n",
    "    @property\n",
    "    def keys(self) -> KeysView:\n",
    "        return requests.get(self.url).json().keys()\n",
    "\n",
    "    @property\n",
    "    def values(self) -> ValuesView:\n",
    "        return requests.get(self.url).json().values()\n",
    "\n",
    "    @property\n",
    "    def items(self) -> ItemsView:\n",
    "        return requests.get(self.url).json().items()\n",
    "\n",
    "    @property\n",
    "    def abilities(self) -> List:\n",
    "        return requests.get(self.url).json()[\"abilities\"]\n",
    "\n",
    "    @property\n",
    "    def ability_names(self) -> List:\n",
    "        return [\n",
    "            d[\"ability\"][\"name\"]\n",
    "            for d in requests.get(\n",
    "                self.url\n",
    "            ).json()[\"abilities\"]\n",
    "        ]\n",
    "\n",
    "    @property\n",
    "    def base_experience(self) -> int:\n",
    "        return requests.get(self.url).json()[\"base_experience\"]\n",
    "\n",
    "    @property\n",
    "    def forms(self) -> List:\n",
    "        return requests.get(self.url).json()[\"forms\"]\n",
    "\n",
    "    @property\n",
    "    def game_indices(self) -> List:\n",
    "        return requests.get(self.url).json()[\"game_indices\"]\n",
    "\n",
    "    @property\n",
    "    def held_items(self) -> List:\n",
    "        return requests.get(self.url).json()[\"held_items\"]\n",
    "\n",
    "    @property\n",
    "    def height(self) -> int:\n",
    "        return requests.get(self.url).json()[\"height\"]\n",
    "\n",
    "    @property\n",
    "    def id(self) -> int:\n",
    "        return requests.get(self.url).json()[\"id\"]\n",
    "\n",
    "    @property\n",
    "    def is_default(self) -> bool:\n",
    "        return requests.get(self.url).json()[\"is_default\"]\n",
    "\n",
    "    @property\n",
    "    def location_area_encounters(self) -> str:\n",
    "        return requests.get(\n",
    "            self.url\n",
    "        ).json()[\"location_area_encounters\"]\n",
    "\n",
    "    @property\n",
    "    def moves(self) -> List:\n",
    "        return requests.get(self.url).json()[\"moves\"]\n",
    "\n",
    "    @property\n",
    "    def move_names(self) -> List:\n",
    "        return [\n",
    "            d[\"move\"][\"name\"]\n",
    "            for d in requests.get(\n",
    "                self.url\n",
    "            ).json()[\"moves\"]\n",
    "        ]\n",
    "    \n",
    "    @property\n",
    "    def move_powers(self) -> List:\n",
    "        return [\n",
    "            requests.get(p.get_move(move)[\"url\"]).json()[\"power\"]\n",
    "            for move in self.move_names\n",
    "        ]\n",
    "\n",
    "    @property\n",
    "    def order(self) -> int:\n",
    "        return requests.get(self.url).json()[\"order\"]\n",
    "\n",
    "    @property\n",
    "    def species(self) -> Dict:\n",
    "        return requests.get(self.url).json()[\"species\"]\n",
    "\n",
    "    @property\n",
    "    def sprites(self) -> Dict:\n",
    "        return requests.get(self.url).json()[\"sprites\"]\n",
    "\n",
    "    @property\n",
    "    def sprite_options(self) -> KeysView:\n",
    "        return requests.get(self.url).json()[\"sprites\"].keys()\n",
    "\n",
    "    @property\n",
    "    def stats(self) -> List:\n",
    "        return requests.get(self.url).json()[\"stats\"]\n",
    "\n",
    "    @property\n",
    "    def types(self) -> List:\n",
    "        return requests.get(self.url).json()[\"types\"]\n",
    "\n",
    "    @property\n",
    "    def weight(self) -> int:\n",
    "        return requests.get(self.url).json()[\"weight\"]\n",
    "\n",
    "    def get_ability(self, ability_name: str) -> Dict:\n",
    "        return {\n",
    "            d[\"ability\"][\"name\"]: d[\"ability\"]\n",
    "            for d in\n",
    "            requests.get(\n",
    "                self.url\n",
    "            ).json()[\"abilities\"]\n",
    "        }[ability_name]\n",
    "\n",
    "    def get_move(self, move_name: str) -> Dict:\n",
    "        return {\n",
    "            d[\"move\"][\"name\"]: d[\"move\"]\n",
    "            for d in\n",
    "            requests.get(\n",
    "                self.url\n",
    "            ).json()[\"moves\"]\n",
    "        }[move_name]\n",
    "\n",
    "    def get_sprite(\n",
    "            self,\n",
    "            sprite_option: str = \"front_default\"\n",
    "    ) -> IPython.core.display.Image:\n",
    "        return IPython.display.Image(requests.get(\n",
    "            self.url\n",
    "        ).json()[\"sprites\"][sprite_option])\n",
    "\n",
    "    \n",
    "    def plot_move_powers(self, n=10):\n",
    "        powers = dict(zip(p.move_names[:n], p.move_powers[:n]))\n",
    "\n",
    "        df = pd.DataFrame(\n",
    "            powers,\n",
    "            index=[p.name]\n",
    "        ).melt(\n",
    "            var_name=\"move\",\n",
    "            value_name=\"power\"\n",
    "        ).set_index(\n",
    "            \"move\"\n",
    "        ).sort_values(by=\"power\")\n",
    "\n",
    "        df.plot.barh(legend=False)\n",
    "        plt.suptitle(f\"Power values for {p.name}\")\n",
    "        plt.title(f\"Obtained from {p.url}\");\n",
    "        \n",
    "if __name__ == '__main__':\n",
    "    b = Pokemon(\"bulbasaur\")\n",
    "    b.get_ability(b.ability_names[0])\n",
    "    b.get_move(b.move_names[0])\n",
    "    b.get_sprite()"
   ]
  },
  {
   "cell_type": "code",
   "execution_count": 113,
   "metadata": {},
   "outputs": [],
   "source": [
    "p = Pokemon(\"charizard\")"
   ]
  },
  {
   "cell_type": "code",
   "execution_count": 114,
   "metadata": {},
   "outputs": [
    {
     "data": {
      "image/png": "[encoded data removed]",
      "text/plain": [
       "<Figure size 432x288 with 1 Axes>"
      ]
     },
     "metadata": {
      "needs_background": "light"
     },
     "output_type": "display_data"
    }
   ],
   "source": [
    "p.plot_move_powers(10)"
   ]
  },
  {
   "cell_type": "code",
   "execution_count": 115,
   "metadata": {},
   "outputs": [],
   "source": [
    "# Another update: to get the actual top 10 not 10 random ranked top to bottom"
   ]
  },
  {
   "cell_type": "code",
   "execution_count": 152,
   "metadata": {},
   "outputs": [],
   "source": [
    "from typing import List, Dict, KeysView, ItemsView, ValuesView\n",
    "\n",
    "import requests\n",
    "import IPython\n",
    "import pandas as pd\n",
    "import matplotlib.pyplot as plt\n",
    "\n",
    "class Pokemon:\n",
    "    \n",
    "    def __init__(self, name) -> None:\n",
    "        self.name = name\n",
    "        self.url = \"https://pokeapi.co/api/v2/pokemon/\" + name\n",
    "\n",
    "    @property\n",
    "    def keys(self) -> KeysView:\n",
    "        return requests.get(self.url).json().keys()\n",
    "\n",
    "    @property\n",
    "    def values(self) -> ValuesView:\n",
    "        return requests.get(self.url).json().values()\n",
    "\n",
    "    @property\n",
    "    def items(self) -> ItemsView:\n",
    "        return requests.get(self.url).json().items()\n",
    "\n",
    "    @property\n",
    "    def abilities(self) -> List:\n",
    "        return requests.get(self.url).json()[\"abilities\"]\n",
    "\n",
    "    @property\n",
    "    def ability_names(self) -> List:\n",
    "        return [\n",
    "            d[\"ability\"][\"name\"]\n",
    "            for d in requests.get(\n",
    "                self.url\n",
    "            ).json()[\"abilities\"]\n",
    "        ]\n",
    "\n",
    "    @property\n",
    "    def base_experience(self) -> int:\n",
    "        return requests.get(self.url).json()[\"base_experience\"]\n",
    "\n",
    "    @property\n",
    "    def forms(self) -> List:\n",
    "        return requests.get(self.url).json()[\"forms\"]\n",
    "\n",
    "    @property\n",
    "    def game_indices(self) -> List:\n",
    "        return requests.get(self.url).json()[\"game_indices\"]\n",
    "\n",
    "    @property\n",
    "    def held_items(self) -> List:\n",
    "        return requests.get(self.url).json()[\"held_items\"]\n",
    "\n",
    "    @property\n",
    "    def height(self) -> int:\n",
    "        return requests.get(self.url).json()[\"height\"]\n",
    "\n",
    "    @property\n",
    "    def id(self) -> int:\n",
    "        return requests.get(self.url).json()[\"id\"]\n",
    "\n",
    "    @property\n",
    "    def is_default(self) -> bool:\n",
    "        return requests.get(self.url).json()[\"is_default\"]\n",
    "\n",
    "    @property\n",
    "    def location_area_encounters(self) -> str:\n",
    "        return requests.get(\n",
    "            self.url\n",
    "        ).json()[\"location_area_encounters\"]\n",
    "\n",
    "    @property\n",
    "    def moves(self) -> List:\n",
    "        return requests.get(self.url).json()[\"moves\"]\n",
    "\n",
    "    @property\n",
    "    def move_names(self) -> List:\n",
    "        return [\n",
    "            d[\"move\"][\"name\"]\n",
    "            for d in requests.get(\n",
    "                self.url\n",
    "            ).json()[\"moves\"]\n",
    "        ]\n",
    "    \n",
    "    @property\n",
    "    def move_powers(self) -> List:\n",
    "        return [\n",
    "            requests.get(p.get_move(move)[\"url\"]).json()[\"power\"]\n",
    "            for move in self.move_names\n",
    "        ]\n",
    "\n",
    "    @property\n",
    "    def order(self) -> int:\n",
    "        return requests.get(self.url).json()[\"order\"]\n",
    "\n",
    "    @property\n",
    "    def species(self) -> Dict:\n",
    "        return requests.get(self.url).json()[\"species\"]\n",
    "\n",
    "    @property\n",
    "    def sprites(self) -> Dict:\n",
    "        return requests.get(self.url).json()[\"sprites\"]\n",
    "\n",
    "    @property\n",
    "    def sprite_options(self) -> KeysView:\n",
    "        return requests.get(self.url).json()[\"sprites\"].keys()\n",
    "\n",
    "    @property\n",
    "    def stats(self) -> List:\n",
    "        return requests.get(self.url).json()[\"stats\"]\n",
    "\n",
    "    @property\n",
    "    def types(self) -> List:\n",
    "        return requests.get(self.url).json()[\"types\"]\n",
    "\n",
    "    @property\n",
    "    def weight(self) -> int:\n",
    "        return requests.get(self.url).json()[\"weight\"]\n",
    "\n",
    "    def get_ability(self, ability_name: str) -> Dict:\n",
    "        return {\n",
    "            d[\"ability\"][\"name\"]: d[\"ability\"]\n",
    "            for d in\n",
    "            requests.get(\n",
    "                self.url\n",
    "            ).json()[\"abilities\"]\n",
    "        }[ability_name]\n",
    "\n",
    "    def get_move(self, move_name: str) -> Dict:\n",
    "        return {\n",
    "            d[\"move\"][\"name\"]: d[\"move\"]\n",
    "            for d in\n",
    "            requests.get(\n",
    "                self.url\n",
    "            ).json()[\"moves\"]\n",
    "        }[move_name]\n",
    "\n",
    "    def get_sprite(\n",
    "            self,\n",
    "            sprite_option: str = \"front_default\"\n",
    "    ) -> IPython.core.display.Image:\n",
    "        return IPython.display.Image(requests.get(\n",
    "            self.url\n",
    "        ).json()[\"sprites\"][sprite_option])\n",
    "\n",
    "    \n",
    "    def plot_move_powers(self, n=10, ascending=True):\n",
    "        powers = dict(zip(p.move_names, p.move_powers))\n",
    "\n",
    "        pd.DataFrame(\n",
    "            powers,\n",
    "            index=[p.name]\n",
    "        ).melt(\n",
    "            var_name=\"move\",\n",
    "            value_name=\"power\"\n",
    "        ).sort_values(\n",
    "            by=\"power\",\n",
    "            ascending=ascending\n",
    "        ).head(n).set_index(\"move\").plot.barh(legend=False)\n",
    "        \n",
    "        plt.suptitle(f\"Power values for {p.name}\")\n",
    "        plt.title(f\"Obtained from {p.url}\");\n",
    "        \n",
    "if __name__ == '__main__':\n",
    "    b = Pokemon(\"bulbasaur\")\n",
    "    b.get_ability(b.ability_names[0])\n",
    "    b.get_move(b.move_names[0])\n",
    "    b.get_sprite()"
   ]
  },
  {
   "cell_type": "code",
   "execution_count": 153,
   "metadata": {},
   "outputs": [],
   "source": [
    "p = Pokemon(\"charizard\")"
   ]
  },
  {
   "cell_type": "code",
   "execution_count": 154,
   "metadata": {},
   "outputs": [
    {
     "data": {
      "image/png": "[encoded data removed]",
      "text/plain": [
       "<Figure size 432x288 with 1 Axes>"
      ]
     },
     "metadata": {
      "needs_background": "light"
     },
     "output_type": "display_data"
    }
   ],
   "source": [
    "p.plot_move_powers(n = 15, ascending = False)"
   ]
  },
  {
   "cell_type": "code",
   "execution_count": 155,
   "metadata": {},
   "outputs": [
    {
     "data": {
      "image/png": "[encoded data removed]",
      "text/plain": [
       "<IPython.core.display.Image object>"
      ]
     },
     "execution_count": 155,
     "metadata": {},
     "output_type": "execute_result"
    }
   ],
   "source": [
    "p.get_sprite()"
   ]
  },
  {
   "cell_type": "code",
   "execution_count": 156,
   "metadata": {},
   "outputs": [
    {
     "data": {
      "image/png": "[encoded data removed]",
      "text/plain": [
       "<IPython.core.display.Image object>"
      ]
     },
     "execution_count": 156,
     "metadata": {},
     "output_type": "execute_result"
    },
    {
     "data": {
      "image/png": "[encoded data removed]",
      "text/plain": [
       "<Figure size 432x288 with 1 Axes>"
      ]
     },
     "metadata": {
      "needs_background": "light"
     },
     "output_type": "display_data"
    }
   ],
   "source": [
    "p = Pokemon(\"cyndaquil\")\n",
    "p.plot_move_powers(n = 15, ascending = False)\n",
    "p.get_sprite()"
   ]
  },
  {
   "cell_type": "code",
   "execution_count": null,
   "metadata": {},
   "outputs": [],
   "source": [
    "# Could make a few improvements\n",
    "    # Highest power on top which for some reason has been difficult\n",
    "    # Add top n powers to plot title"
   ]
  }
 ],
 "metadata": {
  "kernelspec": {
   "display_name": "Python 3",
   "language": "python",
   "name": "python3"
  },
  "language_info": {
   "codemirror_mode": {
    "name": "ipython",
    "version": 3
   },
   "file_extension": ".py",
   "mimetype": "text/x-python",
   "name": "python",
   "nbconvert_exporter": "python",
   "pygments_lexer": "ipython3",
   "version": "3.7.3"
  }
 },
 "nbformat": 4,
 "nbformat_minor": 2
}
